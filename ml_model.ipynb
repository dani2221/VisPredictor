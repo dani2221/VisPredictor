{
  "nbformat": 4,
  "nbformat_minor": 0,
  "metadata": {
    "colab": {
      "name": "finki_grade_predictor.ipynb",
      "provenance": [],
      "collapsed_sections": [],
      "toc_visible": true
    },
    "kernelspec": {
      "name": "python3",
      "display_name": "Python 3"
    },
    "language_info": {
      "name": "python"
    }
  },
  "cells": [
    {
      "cell_type": "markdown",
      "source": [
        "# Using machine learning to predict a student's grade for the course Probability and Statistics\n",
        "\n",
        "This notebook is exploring different machine learning techniques and models to predict the grade for VIS course.\n",
        "\n",
        "## Content:\n",
        "- Preparing the data\n",
        "- Regression models:\n",
        "  - Deep learning regression\n",
        "  - Random forest regressor\n",
        "  - Support vector regressor\n",
        "- Comparing the models\n",
        "\n",
        "## Features\n",
        "Features are the students grades for past courses from first and second semester. \n",
        "8 in total: VVKN, SP, DM, ONVD, OOP, K, AOK, AIPS\n",
        "\n",
        "### Missing values\n",
        "Some students don't take all these courses, so for the value is generated as an average from similar courses.\n",
        "\n",
        "Example: For students that dont take DM course, the value is generated as an average from DS1 and DS2, where the same material is studied but in more depth in 2 courses.\n",
        "\n",
        "## Dataset\n",
        "The dataset includes 226 rows(different students) each with 8 features and the class value.\n",
        "\n",
        "The dataset is provided from the finki students spreadsheet available [here](https://docs.google.com/spreadsheets/d/1OdGsQhTcJbM8iOnWCDg6urL1n2gOi7SxePYKPZXyt-g/edit#gid=587194799)\n",
        "\n",
        "As data about final VIS grades isn't available, it is taken from the initial theory grades with some modification.\n"
      ],
      "metadata": {
        "id": "OrOkPVlk0Cmi"
      }
    },
    {
      "cell_type": "markdown",
      "source": [
        "# Loading the data\n",
        "\n",
        "Fortunately the data is relatively clean since a grade can only take six values 5-10 (F-A). We don't need any kind of encoding because the values are integers and we don't need to scale the data."
      ],
      "metadata": {
        "id": "dMjOyUGgEZiA"
      }
    },
    {
      "cell_type": "code",
      "execution_count": 215,
      "metadata": {
        "id": "Y4gELKJR4tI9"
      },
      "outputs": [],
      "source": [
        "import pandas as pd\n",
        "from tensorflow import keras\n",
        "import tensorflow as tf\n",
        "from sklearn.model_selection import train_test_split\n",
        "import numpy as np\n",
        "from keras.models import Sequential\n",
        "from keras.layers import Dense\n",
        "import math"
      ]
    },
    {
      "cell_type": "code",
      "source": [
        "# Load and shuffle the data\n",
        "dataset = pd.read_excel('/content/ocenki.xlsx', header=0)\n",
        "dataset = dataset.drop('Name',axis=1)\n",
        "dataset = dataset.drop('Id',axis=1)\n",
        "dataset = dataset.iloc[np.random.permutation(len(dataset))]\n",
        "dataset.head()"
      ],
      "metadata": {
        "colab": {
          "base_uri": "https://localhost:8080/",
          "height": 206
        },
        "id": "Xyz-2sII5Mno",
        "outputId": "407a64fb-9bac-4e99-93eb-f3fe4ede6643"
      },
      "execution_count": 216,
      "outputs": [
        {
          "output_type": "execute_result",
          "data": {
            "text/plain": [
              "     VVKN  SP  DM  ONVD  OOP  K  AOK  AIPS  VIS\n",
              "223     9  10   6    10    9  8    6     7    5\n",
              "205     8   6   6     5    6  6    5     6    5\n",
              "45     10  10   8     9    9  8    7     8    6\n",
              "221     9   6   6     8    8  6    7     5    5\n",
              "191     9   6   6     9    8  7    7     5    5"
            ],
            "text/html": [
              "\n",
              "  <div id=\"df-b40be12c-fb3e-49e6-aab4-8a5b2d0161aa\">\n",
              "    <div class=\"colab-df-container\">\n",
              "      <div>\n",
              "<style scoped>\n",
              "    .dataframe tbody tr th:only-of-type {\n",
              "        vertical-align: middle;\n",
              "    }\n",
              "\n",
              "    .dataframe tbody tr th {\n",
              "        vertical-align: top;\n",
              "    }\n",
              "\n",
              "    .dataframe thead th {\n",
              "        text-align: right;\n",
              "    }\n",
              "</style>\n",
              "<table border=\"1\" class=\"dataframe\">\n",
              "  <thead>\n",
              "    <tr style=\"text-align: right;\">\n",
              "      <th></th>\n",
              "      <th>VVKN</th>\n",
              "      <th>SP</th>\n",
              "      <th>DM</th>\n",
              "      <th>ONVD</th>\n",
              "      <th>OOP</th>\n",
              "      <th>K</th>\n",
              "      <th>AOK</th>\n",
              "      <th>AIPS</th>\n",
              "      <th>VIS</th>\n",
              "    </tr>\n",
              "  </thead>\n",
              "  <tbody>\n",
              "    <tr>\n",
              "      <th>223</th>\n",
              "      <td>9</td>\n",
              "      <td>10</td>\n",
              "      <td>6</td>\n",
              "      <td>10</td>\n",
              "      <td>9</td>\n",
              "      <td>8</td>\n",
              "      <td>6</td>\n",
              "      <td>7</td>\n",
              "      <td>5</td>\n",
              "    </tr>\n",
              "    <tr>\n",
              "      <th>205</th>\n",
              "      <td>8</td>\n",
              "      <td>6</td>\n",
              "      <td>6</td>\n",
              "      <td>5</td>\n",
              "      <td>6</td>\n",
              "      <td>6</td>\n",
              "      <td>5</td>\n",
              "      <td>6</td>\n",
              "      <td>5</td>\n",
              "    </tr>\n",
              "    <tr>\n",
              "      <th>45</th>\n",
              "      <td>10</td>\n",
              "      <td>10</td>\n",
              "      <td>8</td>\n",
              "      <td>9</td>\n",
              "      <td>9</td>\n",
              "      <td>8</td>\n",
              "      <td>7</td>\n",
              "      <td>8</td>\n",
              "      <td>6</td>\n",
              "    </tr>\n",
              "    <tr>\n",
              "      <th>221</th>\n",
              "      <td>9</td>\n",
              "      <td>6</td>\n",
              "      <td>6</td>\n",
              "      <td>8</td>\n",
              "      <td>8</td>\n",
              "      <td>6</td>\n",
              "      <td>7</td>\n",
              "      <td>5</td>\n",
              "      <td>5</td>\n",
              "    </tr>\n",
              "    <tr>\n",
              "      <th>191</th>\n",
              "      <td>9</td>\n",
              "      <td>6</td>\n",
              "      <td>6</td>\n",
              "      <td>9</td>\n",
              "      <td>8</td>\n",
              "      <td>7</td>\n",
              "      <td>7</td>\n",
              "      <td>5</td>\n",
              "      <td>5</td>\n",
              "    </tr>\n",
              "  </tbody>\n",
              "</table>\n",
              "</div>\n",
              "      <button class=\"colab-df-convert\" onclick=\"convertToInteractive('df-b40be12c-fb3e-49e6-aab4-8a5b2d0161aa')\"\n",
              "              title=\"Convert this dataframe to an interactive table.\"\n",
              "              style=\"display:none;\">\n",
              "        \n",
              "  <svg xmlns=\"http://www.w3.org/2000/svg\" height=\"24px\"viewBox=\"0 0 24 24\"\n",
              "       width=\"24px\">\n",
              "    <path d=\"M0 0h24v24H0V0z\" fill=\"none\"/>\n",
              "    <path d=\"M18.56 5.44l.94 2.06.94-2.06 2.06-.94-2.06-.94-.94-2.06-.94 2.06-2.06.94zm-11 1L8.5 8.5l.94-2.06 2.06-.94-2.06-.94L8.5 2.5l-.94 2.06-2.06.94zm10 10l.94 2.06.94-2.06 2.06-.94-2.06-.94-.94-2.06-.94 2.06-2.06.94z\"/><path d=\"M17.41 7.96l-1.37-1.37c-.4-.4-.92-.59-1.43-.59-.52 0-1.04.2-1.43.59L10.3 9.45l-7.72 7.72c-.78.78-.78 2.05 0 2.83L4 21.41c.39.39.9.59 1.41.59.51 0 1.02-.2 1.41-.59l7.78-7.78 2.81-2.81c.8-.78.8-2.07 0-2.86zM5.41 20L4 18.59l7.72-7.72 1.47 1.35L5.41 20z\"/>\n",
              "  </svg>\n",
              "      </button>\n",
              "      \n",
              "  <style>\n",
              "    .colab-df-container {\n",
              "      display:flex;\n",
              "      flex-wrap:wrap;\n",
              "      gap: 12px;\n",
              "    }\n",
              "\n",
              "    .colab-df-convert {\n",
              "      background-color: #E8F0FE;\n",
              "      border: none;\n",
              "      border-radius: 50%;\n",
              "      cursor: pointer;\n",
              "      display: none;\n",
              "      fill: #1967D2;\n",
              "      height: 32px;\n",
              "      padding: 0 0 0 0;\n",
              "      width: 32px;\n",
              "    }\n",
              "\n",
              "    .colab-df-convert:hover {\n",
              "      background-color: #E2EBFA;\n",
              "      box-shadow: 0px 1px 2px rgba(60, 64, 67, 0.3), 0px 1px 3px 1px rgba(60, 64, 67, 0.15);\n",
              "      fill: #174EA6;\n",
              "    }\n",
              "\n",
              "    [theme=dark] .colab-df-convert {\n",
              "      background-color: #3B4455;\n",
              "      fill: #D2E3FC;\n",
              "    }\n",
              "\n",
              "    [theme=dark] .colab-df-convert:hover {\n",
              "      background-color: #434B5C;\n",
              "      box-shadow: 0px 1px 3px 1px rgba(0, 0, 0, 0.15);\n",
              "      filter: drop-shadow(0px 1px 2px rgba(0, 0, 0, 0.3));\n",
              "      fill: #FFFFFF;\n",
              "    }\n",
              "  </style>\n",
              "\n",
              "      <script>\n",
              "        const buttonEl =\n",
              "          document.querySelector('#df-b40be12c-fb3e-49e6-aab4-8a5b2d0161aa button.colab-df-convert');\n",
              "        buttonEl.style.display =\n",
              "          google.colab.kernel.accessAllowed ? 'block' : 'none';\n",
              "\n",
              "        async function convertToInteractive(key) {\n",
              "          const element = document.querySelector('#df-b40be12c-fb3e-49e6-aab4-8a5b2d0161aa');\n",
              "          const dataTable =\n",
              "            await google.colab.kernel.invokeFunction('convertToInteractive',\n",
              "                                                     [key], {});\n",
              "          if (!dataTable) return;\n",
              "\n",
              "          const docLinkHtml = 'Like what you see? Visit the ' +\n",
              "            '<a target=\"_blank\" href=https://colab.research.google.com/notebooks/data_table.ipynb>data table notebook</a>'\n",
              "            + ' to learn more about interactive tables.';\n",
              "          element.innerHTML = '';\n",
              "          dataTable['output_type'] = 'display_data';\n",
              "          await google.colab.output.renderOutput(dataTable, element);\n",
              "          const docLink = document.createElement('div');\n",
              "          docLink.innerHTML = docLinkHtml;\n",
              "          element.appendChild(docLink);\n",
              "        }\n",
              "      </script>\n",
              "    </div>\n",
              "  </div>\n",
              "  "
            ]
          },
          "metadata": {},
          "execution_count": 216
        }
      ]
    },
    {
      "cell_type": "markdown",
      "source": [
        "## Correlation between the features\n",
        "As we can see from the below cell, there is strong correlation between VIS and some of the courses, especially between more mathematical subjects like DM and K"
      ],
      "metadata": {
        "id": "R46rxaQZ4HsK"
      }
    },
    {
      "cell_type": "code",
      "source": [
        "corr = dataset.corr()\n",
        "corr.style.background_gradient(cmap='coolwarm')"
      ],
      "metadata": {
        "colab": {
          "base_uri": "https://localhost:8080/",
          "height": 332
        },
        "id": "eiPazgCGmXRP",
        "outputId": "beeda428-0e83-4f13-861d-fb3bc5aae1e5"
      },
      "execution_count": 217,
      "outputs": [
        {
          "output_type": "execute_result",
          "data": {
            "text/plain": [
              "<pandas.io.formats.style.Styler at 0x7fac730bee50>"
            ],
            "text/html": [
              "<style type=\"text/css\">\n",
              "#T_8de45_row0_col0, #T_8de45_row1_col1, #T_8de45_row2_col2, #T_8de45_row3_col3, #T_8de45_row4_col4, #T_8de45_row5_col5, #T_8de45_row6_col6, #T_8de45_row7_col7, #T_8de45_row8_col8 {\n",
              "  background-color: #b40426;\n",
              "  color: #f1f1f1;\n",
              "}\n",
              "#T_8de45_row0_col1, #T_8de45_row5_col3 {\n",
              "  background-color: #86a9fc;\n",
              "  color: #f1f1f1;\n",
              "}\n",
              "#T_8de45_row0_col2 {\n",
              "  background-color: #6384eb;\n",
              "  color: #f1f1f1;\n",
              "}\n",
              "#T_8de45_row0_col3 {\n",
              "  background-color: #8db0fe;\n",
              "  color: #000000;\n",
              "}\n",
              "#T_8de45_row0_col4, #T_8de45_row4_col3, #T_8de45_row8_col4 {\n",
              "  background-color: #88abfd;\n",
              "  color: #000000;\n",
              "}\n",
              "#T_8de45_row0_col5 {\n",
              "  background-color: #688aef;\n",
              "  color: #f1f1f1;\n",
              "}\n",
              "#T_8de45_row0_col6 {\n",
              "  background-color: #94b6ff;\n",
              "  color: #000000;\n",
              "}\n",
              "#T_8de45_row0_col7 {\n",
              "  background-color: #6a8bef;\n",
              "  color: #f1f1f1;\n",
              "}\n",
              "#T_8de45_row0_col8 {\n",
              "  background-color: #5572df;\n",
              "  color: #f1f1f1;\n",
              "}\n",
              "#T_8de45_row1_col0 {\n",
              "  background-color: #6282ea;\n",
              "  color: #f1f1f1;\n",
              "}\n",
              "#T_8de45_row1_col2, #T_8de45_row1_col5 {\n",
              "  background-color: #4b64d5;\n",
              "  color: #f1f1f1;\n",
              "}\n",
              "#T_8de45_row1_col3 {\n",
              "  background-color: #5875e1;\n",
              "  color: #f1f1f1;\n",
              "}\n",
              "#T_8de45_row1_col4, #T_8de45_row4_col0 {\n",
              "  background-color: #a1c0ff;\n",
              "  color: #000000;\n",
              "}\n",
              "#T_8de45_row1_col6, #T_8de45_row1_col8, #T_8de45_row3_col7, #T_8de45_row6_col1, #T_8de45_row6_col4, #T_8de45_row7_col0, #T_8de45_row7_col2, #T_8de45_row7_col3, #T_8de45_row7_col4, #T_8de45_row7_col5 {\n",
              "  background-color: #3b4cc0;\n",
              "  color: #f1f1f1;\n",
              "}\n",
              "#T_8de45_row1_col7, #T_8de45_row2_col7, #T_8de45_row6_col7 {\n",
              "  background-color: #7ea1fa;\n",
              "  color: #f1f1f1;\n",
              "}\n",
              "#T_8de45_row2_col0 {\n",
              "  background-color: #799cf8;\n",
              "  color: #f1f1f1;\n",
              "}\n",
              "#T_8de45_row2_col1, #T_8de45_row4_col7 {\n",
              "  background-color: #85a8fc;\n",
              "  color: #f1f1f1;\n",
              "}\n",
              "#T_8de45_row2_col3, #T_8de45_row5_col1 {\n",
              "  background-color: #84a7fc;\n",
              "  color: #f1f1f1;\n",
              "}\n",
              "#T_8de45_row2_col4 {\n",
              "  background-color: #adc9fd;\n",
              "  color: #000000;\n",
              "}\n",
              "#T_8de45_row2_col5 {\n",
              "  background-color: #c7d7f0;\n",
              "  color: #000000;\n",
              "}\n",
              "#T_8de45_row2_col6, #T_8de45_row5_col2 {\n",
              "  background-color: #c6d6f1;\n",
              "  color: #000000;\n",
              "}\n",
              "#T_8de45_row2_col8 {\n",
              "  background-color: #ead5c9;\n",
              "  color: #000000;\n",
              "}\n",
              "#T_8de45_row3_col0 {\n",
              "  background-color: #5f7fe8;\n",
              "  color: #f1f1f1;\n",
              "}\n",
              "#T_8de45_row3_col1 {\n",
              "  background-color: #4f69d9;\n",
              "  color: #f1f1f1;\n",
              "}\n",
              "#T_8de45_row3_col2 {\n",
              "  background-color: #3f53c6;\n",
              "  color: #f1f1f1;\n",
              "}\n",
              "#T_8de45_row3_col4 {\n",
              "  background-color: #3d50c3;\n",
              "  color: #f1f1f1;\n",
              "}\n",
              "#T_8de45_row3_col5 {\n",
              "  background-color: #445acc;\n",
              "  color: #f1f1f1;\n",
              "}\n",
              "#T_8de45_row3_col6 {\n",
              "  background-color: #aec9fc;\n",
              "  color: #000000;\n",
              "}\n",
              "#T_8de45_row3_col8 {\n",
              "  background-color: #4257c9;\n",
              "  color: #f1f1f1;\n",
              "}\n",
              "#T_8de45_row4_col1 {\n",
              "  background-color: #cedaeb;\n",
              "  color: #000000;\n",
              "}\n",
              "#T_8de45_row4_col2 {\n",
              "  background-color: #b2ccfb;\n",
              "  color: #000000;\n",
              "}\n",
              "#T_8de45_row4_col5 {\n",
              "  background-color: #82a6fb;\n",
              "  color: #f1f1f1;\n",
              "}\n",
              "#T_8de45_row4_col6, #T_8de45_row5_col7 {\n",
              "  background-color: #7da0f9;\n",
              "  color: #f1f1f1;\n",
              "}\n",
              "#T_8de45_row4_col8, #T_8de45_row8_col3 {\n",
              "  background-color: #89acfd;\n",
              "  color: #000000;\n",
              "}\n",
              "#T_8de45_row5_col0, #T_8de45_row5_col4 {\n",
              "  background-color: #7b9ff9;\n",
              "  color: #f1f1f1;\n",
              "}\n",
              "#T_8de45_row5_col6 {\n",
              "  background-color: #b1cbfc;\n",
              "  color: #000000;\n",
              "}\n",
              "#T_8de45_row5_col8 {\n",
              "  background-color: #e4d9d2;\n",
              "  color: #000000;\n",
              "}\n",
              "#T_8de45_row6_col0 {\n",
              "  background-color: #7093f3;\n",
              "  color: #f1f1f1;\n",
              "}\n",
              "#T_8de45_row6_col2 {\n",
              "  background-color: #9bbcff;\n",
              "  color: #000000;\n",
              "}\n",
              "#T_8de45_row6_col3, #T_8de45_row8_col7 {\n",
              "  background-color: #b5cdfa;\n",
              "  color: #000000;\n",
              "}\n",
              "#T_8de45_row6_col5 {\n",
              "  background-color: #80a3fa;\n",
              "  color: #f1f1f1;\n",
              "}\n",
              "#T_8de45_row6_col8 {\n",
              "  background-color: #8caffe;\n",
              "  color: #000000;\n",
              "}\n",
              "#T_8de45_row7_col1 {\n",
              "  background-color: #7699f6;\n",
              "  color: #f1f1f1;\n",
              "}\n",
              "#T_8de45_row7_col6, #T_8de45_row7_col8 {\n",
              "  background-color: #7597f6;\n",
              "  color: #f1f1f1;\n",
              "}\n",
              "#T_8de45_row8_col0 {\n",
              "  background-color: #6f92f3;\n",
              "  color: #f1f1f1;\n",
              "}\n",
              "#T_8de45_row8_col1 {\n",
              "  background-color: #7a9df8;\n",
              "  color: #f1f1f1;\n",
              "}\n",
              "#T_8de45_row8_col2 {\n",
              "  background-color: #ebd3c6;\n",
              "  color: #000000;\n",
              "}\n",
              "#T_8de45_row8_col5 {\n",
              "  background-color: #e7d7ce;\n",
              "  color: #000000;\n",
              "}\n",
              "#T_8de45_row8_col6 {\n",
              "  background-color: #bfd3f6;\n",
              "  color: #000000;\n",
              "}\n",
              "</style>\n",
              "<table id=\"T_8de45_\" class=\"dataframe\">\n",
              "  <thead>\n",
              "    <tr>\n",
              "      <th class=\"blank level0\" >&nbsp;</th>\n",
              "      <th class=\"col_heading level0 col0\" >VVKN</th>\n",
              "      <th class=\"col_heading level0 col1\" >SP</th>\n",
              "      <th class=\"col_heading level0 col2\" >DM</th>\n",
              "      <th class=\"col_heading level0 col3\" >ONVD</th>\n",
              "      <th class=\"col_heading level0 col4\" >OOP</th>\n",
              "      <th class=\"col_heading level0 col5\" >K</th>\n",
              "      <th class=\"col_heading level0 col6\" >AOK</th>\n",
              "      <th class=\"col_heading level0 col7\" >AIPS</th>\n",
              "      <th class=\"col_heading level0 col8\" >VIS</th>\n",
              "    </tr>\n",
              "  </thead>\n",
              "  <tbody>\n",
              "    <tr>\n",
              "      <th id=\"T_8de45_level0_row0\" class=\"row_heading level0 row0\" >VVKN</th>\n",
              "      <td id=\"T_8de45_row0_col0\" class=\"data row0 col0\" >1.000000</td>\n",
              "      <td id=\"T_8de45_row0_col1\" class=\"data row0 col1\" >0.498521</td>\n",
              "      <td id=\"T_8de45_row0_col2\" class=\"data row0 col2\" >0.536310</td>\n",
              "      <td id=\"T_8de45_row0_col3\" class=\"data row0 col3\" >0.495440</td>\n",
              "      <td id=\"T_8de45_row0_col4\" class=\"data row0 col4\" >0.601853</td>\n",
              "      <td id=\"T_8de45_row0_col5\" class=\"data row0 col5\" >0.541729</td>\n",
              "      <td id=\"T_8de45_row0_col6\" class=\"data row0 col6\" >0.524857</td>\n",
              "      <td id=\"T_8de45_row0_col7\" class=\"data row0 col7\" >0.426380</td>\n",
              "      <td id=\"T_8de45_row0_col8\" class=\"data row0 col8\" >0.521662</td>\n",
              "    </tr>\n",
              "    <tr>\n",
              "      <th id=\"T_8de45_level0_row1\" class=\"row_heading level0 row1\" >SP</th>\n",
              "      <td id=\"T_8de45_row1_col0\" class=\"data row1 col0\" >0.498521</td>\n",
              "      <td id=\"T_8de45_row1_col1\" class=\"data row1 col1\" >1.000000</td>\n",
              "      <td id=\"T_8de45_row1_col2\" class=\"data row1 col2\" >0.496364</td>\n",
              "      <td id=\"T_8de45_row1_col3\" class=\"data row1 col3\" >0.390149</td>\n",
              "      <td id=\"T_8de45_row1_col4\" class=\"data row1 col4\" >0.638256</td>\n",
              "      <td id=\"T_8de45_row1_col5\" class=\"data row1 col5\" >0.493722</td>\n",
              "      <td id=\"T_8de45_row1_col6\" class=\"data row1 col6\" >0.346409</td>\n",
              "      <td id=\"T_8de45_row1_col7\" class=\"data row1 col7\" >0.466842</td>\n",
              "      <td id=\"T_8de45_row1_col8\" class=\"data row1 col8\" >0.474922</td>\n",
              "    </tr>\n",
              "    <tr>\n",
              "      <th id=\"T_8de45_level0_row2\" class=\"row_heading level0 row2\" >DM</th>\n",
              "      <td id=\"T_8de45_row2_col0\" class=\"data row2 col0\" >0.536310</td>\n",
              "      <td id=\"T_8de45_row2_col1\" class=\"data row2 col1\" >0.496364</td>\n",
              "      <td id=\"T_8de45_row2_col2\" class=\"data row2 col2\" >1.000000</td>\n",
              "      <td id=\"T_8de45_row2_col3\" class=\"data row2 col3\" >0.475337</td>\n",
              "      <td id=\"T_8de45_row2_col4\" class=\"data row2 col4\" >0.655763</td>\n",
              "      <td id=\"T_8de45_row2_col5\" class=\"data row2 col5\" >0.689663</td>\n",
              "      <td id=\"T_8de45_row2_col6\" class=\"data row2 col6\" >0.621582</td>\n",
              "      <td id=\"T_8de45_row2_col7\" class=\"data row2 col7\" >0.465501</td>\n",
              "      <td id=\"T_8de45_row2_col8\" class=\"data row2 col8\" >0.765932</td>\n",
              "    </tr>\n",
              "    <tr>\n",
              "      <th id=\"T_8de45_level0_row3\" class=\"row_heading level0 row3\" >ONVD</th>\n",
              "      <td id=\"T_8de45_row3_col0\" class=\"data row3 col0\" >0.495440</td>\n",
              "      <td id=\"T_8de45_row3_col1\" class=\"data row3 col1\" >0.390149</td>\n",
              "      <td id=\"T_8de45_row3_col2\" class=\"data row3 col2\" >0.475337</td>\n",
              "      <td id=\"T_8de45_row3_col3\" class=\"data row3 col3\" >1.000000</td>\n",
              "      <td id=\"T_8de45_row3_col4\" class=\"data row3 col4\" >0.484170</td>\n",
              "      <td id=\"T_8de45_row3_col5\" class=\"data row3 col5\" >0.481074</td>\n",
              "      <td id=\"T_8de45_row3_col6\" class=\"data row3 col6\" >0.571165</td>\n",
              "      <td id=\"T_8de45_row3_col7\" class=\"data row3 col7\" >0.324697</td>\n",
              "      <td id=\"T_8de45_row3_col8\" class=\"data row3 col8\" >0.487838</td>\n",
              "    </tr>\n",
              "    <tr>\n",
              "      <th id=\"T_8de45_level0_row4\" class=\"row_heading level0 row4\" >OOP</th>\n",
              "      <td id=\"T_8de45_row4_col0\" class=\"data row4 col0\" >0.601853</td>\n",
              "      <td id=\"T_8de45_row4_col1\" class=\"data row4 col1\" >0.638256</td>\n",
              "      <td id=\"T_8de45_row4_col2\" class=\"data row4 col2\" >0.655763</td>\n",
              "      <td id=\"T_8de45_row4_col3\" class=\"data row4 col3\" >0.484170</td>\n",
              "      <td id=\"T_8de45_row4_col4\" class=\"data row4 col4\" >1.000000</td>\n",
              "      <td id=\"T_8de45_row4_col5\" class=\"data row4 col5\" >0.582358</td>\n",
              "      <td id=\"T_8de45_row4_col6\" class=\"data row4 col6\" >0.479270</td>\n",
              "      <td id=\"T_8de45_row4_col7\" class=\"data row4 col7\" >0.478446</td>\n",
              "      <td id=\"T_8de45_row4_col8\" class=\"data row4 col8\" >0.601912</td>\n",
              "    </tr>\n",
              "    <tr>\n",
              "      <th id=\"T_8de45_level0_row5\" class=\"row_heading level0 row5\" >K</th>\n",
              "      <td id=\"T_8de45_row5_col0\" class=\"data row5 col0\" >0.541729</td>\n",
              "      <td id=\"T_8de45_row5_col1\" class=\"data row5 col1\" >0.493722</td>\n",
              "      <td id=\"T_8de45_row5_col2\" class=\"data row5 col2\" >0.689663</td>\n",
              "      <td id=\"T_8de45_row5_col3\" class=\"data row5 col3\" >0.481074</td>\n",
              "      <td id=\"T_8de45_row5_col4\" class=\"data row5 col4\" >0.582358</td>\n",
              "      <td id=\"T_8de45_row5_col5\" class=\"data row5 col5\" >1.000000</td>\n",
              "      <td id=\"T_8de45_row5_col6\" class=\"data row5 col6\" >0.576741</td>\n",
              "      <td id=\"T_8de45_row5_col7\" class=\"data row5 col7\" >0.462842</td>\n",
              "      <td id=\"T_8de45_row5_col8\" class=\"data row5 col8\" >0.753729</td>\n",
              "    </tr>\n",
              "    <tr>\n",
              "      <th id=\"T_8de45_level0_row6\" class=\"row_heading level0 row6\" >AOK</th>\n",
              "      <td id=\"T_8de45_row6_col0\" class=\"data row6 col0\" >0.524857</td>\n",
              "      <td id=\"T_8de45_row6_col1\" class=\"data row6 col1\" >0.346409</td>\n",
              "      <td id=\"T_8de45_row6_col2\" class=\"data row6 col2\" >0.621582</td>\n",
              "      <td id=\"T_8de45_row6_col3\" class=\"data row6 col3\" >0.571165</td>\n",
              "      <td id=\"T_8de45_row6_col4\" class=\"data row6 col4\" >0.479270</td>\n",
              "      <td id=\"T_8de45_row6_col5\" class=\"data row6 col5\" >0.576741</td>\n",
              "      <td id=\"T_8de45_row6_col6\" class=\"data row6 col6\" >1.000000</td>\n",
              "      <td id=\"T_8de45_row6_col7\" class=\"data row6 col7\" >0.465390</td>\n",
              "      <td id=\"T_8de45_row6_col8\" class=\"data row6 col8\" >0.605563</td>\n",
              "    </tr>\n",
              "    <tr>\n",
              "      <th id=\"T_8de45_level0_row7\" class=\"row_heading level0 row7\" >AIPS</th>\n",
              "      <td id=\"T_8de45_row7_col0\" class=\"data row7 col0\" >0.426380</td>\n",
              "      <td id=\"T_8de45_row7_col1\" class=\"data row7 col1\" >0.466842</td>\n",
              "      <td id=\"T_8de45_row7_col2\" class=\"data row7 col2\" >0.465501</td>\n",
              "      <td id=\"T_8de45_row7_col3\" class=\"data row7 col3\" >0.324697</td>\n",
              "      <td id=\"T_8de45_row7_col4\" class=\"data row7 col4\" >0.478446</td>\n",
              "      <td id=\"T_8de45_row7_col5\" class=\"data row7 col5\" >0.462842</td>\n",
              "      <td id=\"T_8de45_row7_col6\" class=\"data row7 col6\" >0.465390</td>\n",
              "      <td id=\"T_8de45_row7_col7\" class=\"data row7 col7\" >1.000000</td>\n",
              "      <td id=\"T_8de45_row7_col8\" class=\"data row7 col8\" >0.570915</td>\n",
              "    </tr>\n",
              "    <tr>\n",
              "      <th id=\"T_8de45_level0_row8\" class=\"row_heading level0 row8\" >VIS</th>\n",
              "      <td id=\"T_8de45_row8_col0\" class=\"data row8 col0\" >0.521662</td>\n",
              "      <td id=\"T_8de45_row8_col1\" class=\"data row8 col1\" >0.474922</td>\n",
              "      <td id=\"T_8de45_row8_col2\" class=\"data row8 col2\" >0.765932</td>\n",
              "      <td id=\"T_8de45_row8_col3\" class=\"data row8 col3\" >0.487838</td>\n",
              "      <td id=\"T_8de45_row8_col4\" class=\"data row8 col4\" >0.601912</td>\n",
              "      <td id=\"T_8de45_row8_col5\" class=\"data row8 col5\" >0.753729</td>\n",
              "      <td id=\"T_8de45_row8_col6\" class=\"data row8 col6\" >0.605563</td>\n",
              "      <td id=\"T_8de45_row8_col7\" class=\"data row8 col7\" >0.570915</td>\n",
              "      <td id=\"T_8de45_row8_col8\" class=\"data row8 col8\" >1.000000</td>\n",
              "    </tr>\n",
              "  </tbody>\n",
              "</table>\n"
            ]
          },
          "metadata": {},
          "execution_count": 217
        }
      ]
    },
    {
      "cell_type": "code",
      "source": [
        "# Split the data\n",
        "features = dataset.drop('VIS',axis=1)\n",
        "classes = dataset['VIS']\n",
        "X_train, X_test, y_train, y_test = train_test_split(features, classes, test_size=0.2)"
      ],
      "metadata": {
        "id": "1j_M29oN04rc"
      },
      "execution_count": 218,
      "outputs": []
    },
    {
      "cell_type": "markdown",
      "source": [
        "# Models"
      ],
      "metadata": {
        "id": "qd1I3bVfElpT"
      }
    },
    {
      "cell_type": "markdown",
      "source": [
        "## Deep learning regression"
      ],
      "metadata": {
        "id": "wTgRq9MS5GTz"
      }
    },
    {
      "cell_type": "code",
      "source": [
        "# build the model with 2 hidden layers\n",
        "model = Sequential()\n",
        "model.add(Dense(12, activation='relu', input_shape=(8,)))\n",
        "model.add(Dense(32, activation='relu'))\n",
        "model.add(Dense(1))\n",
        "\n",
        "model.compile(loss='mse',optimizer=tf.keras.optimizers.RMSprop(),metrics=['mae', 'mse'])"
      ],
      "metadata": {
        "id": "XLTCZ6y7n42z"
      },
      "execution_count": 291,
      "outputs": []
    },
    {
      "cell_type": "code",
      "source": [
        "# fit with 200 epochs\n",
        "history = model.fit(X_train,y_train,epochs=200,validation_data=(X_test,y_test), verbose=1)"
      ],
      "metadata": {
        "colab": {
          "base_uri": "https://localhost:8080/"
        },
        "id": "lTj73CdtpPNg",
        "outputId": "57667158-bac9-48e4-fd96-e14347cfccb1"
      },
      "execution_count": 292,
      "outputs": [
        {
          "output_type": "stream",
          "name": "stdout",
          "text": [
            "Epoch 1/200\n",
            "6/6 [==============================] - 1s 36ms/step - loss: 24.2223 - mae: 4.7101 - mse: 24.2223 - val_loss: 20.8778 - val_mae: 4.2969 - val_mse: 20.8778\n",
            "Epoch 2/200\n",
            "6/6 [==============================] - 0s 8ms/step - loss: 11.6587 - mae: 3.1859 - mse: 11.6587 - val_loss: 9.5866 - val_mae: 2.7804 - val_mse: 9.5866\n",
            "Epoch 3/200\n",
            "6/6 [==============================] - 0s 7ms/step - loss: 4.9191 - mae: 1.8898 - mse: 4.9191 - val_loss: 4.1568 - val_mae: 1.6732 - val_mse: 4.1568\n",
            "Epoch 4/200\n",
            "6/6 [==============================] - 0s 10ms/step - loss: 2.1285 - mae: 1.1451 - mse: 2.1285 - val_loss: 2.1411 - val_mae: 1.1689 - val_mse: 2.1411\n",
            "Epoch 5/200\n",
            "6/6 [==============================] - 0s 7ms/step - loss: 1.2909 - mae: 0.8819 - mse: 1.2909 - val_loss: 1.5147 - val_mae: 0.9898 - val_mse: 1.5147\n",
            "Epoch 6/200\n",
            "6/6 [==============================] - 0s 7ms/step - loss: 1.1213 - mae: 0.8373 - mse: 1.1213 - val_loss: 1.3567 - val_mae: 0.9271 - val_mse: 1.3567\n",
            "Epoch 7/200\n",
            "6/6 [==============================] - 0s 7ms/step - loss: 1.0752 - mae: 0.8241 - mse: 1.0752 - val_loss: 1.2744 - val_mae: 0.8873 - val_mse: 1.2744\n",
            "Epoch 8/200\n",
            "6/6 [==============================] - 0s 7ms/step - loss: 1.0515 - mae: 0.8154 - mse: 1.0515 - val_loss: 1.2899 - val_mae: 0.8997 - val_mse: 1.2899\n",
            "Epoch 9/200\n",
            "6/6 [==============================] - 0s 10ms/step - loss: 1.0299 - mae: 0.8004 - mse: 1.0299 - val_loss: 1.2972 - val_mae: 0.9016 - val_mse: 1.2972\n",
            "Epoch 10/200\n",
            "6/6 [==============================] - 0s 10ms/step - loss: 0.9724 - mae: 0.7773 - mse: 0.9724 - val_loss: 1.1383 - val_mae: 0.8327 - val_mse: 1.1383\n",
            "Epoch 11/200\n",
            "6/6 [==============================] - 0s 7ms/step - loss: 0.9471 - mae: 0.7738 - mse: 0.9471 - val_loss: 1.1681 - val_mae: 0.8447 - val_mse: 1.1681\n",
            "Epoch 12/200\n",
            "6/6 [==============================] - 0s 7ms/step - loss: 0.9076 - mae: 0.7523 - mse: 0.9076 - val_loss: 1.0017 - val_mae: 0.7647 - val_mse: 1.0017\n",
            "Epoch 13/200\n",
            "6/6 [==============================] - 0s 7ms/step - loss: 0.8902 - mae: 0.7457 - mse: 0.8902 - val_loss: 1.0327 - val_mae: 0.7784 - val_mse: 1.0327\n",
            "Epoch 14/200\n",
            "6/6 [==============================] - 0s 9ms/step - loss: 0.8343 - mae: 0.7245 - mse: 0.8343 - val_loss: 0.9419 - val_mae: 0.7400 - val_mse: 0.9419\n",
            "Epoch 15/200\n",
            "6/6 [==============================] - 0s 7ms/step - loss: 0.8453 - mae: 0.7280 - mse: 0.8453 - val_loss: 0.9905 - val_mae: 0.7614 - val_mse: 0.9905\n",
            "Epoch 16/200\n",
            "6/6 [==============================] - 0s 7ms/step - loss: 0.8721 - mae: 0.7354 - mse: 0.8721 - val_loss: 1.0326 - val_mae: 0.7806 - val_mse: 1.0326\n",
            "Epoch 17/200\n",
            "6/6 [==============================] - 0s 7ms/step - loss: 0.7893 - mae: 0.6892 - mse: 0.7893 - val_loss: 0.8957 - val_mae: 0.7209 - val_mse: 0.8957\n",
            "Epoch 18/200\n",
            "6/6 [==============================] - 0s 6ms/step - loss: 0.8169 - mae: 0.7045 - mse: 0.8169 - val_loss: 1.1151 - val_mae: 0.8178 - val_mse: 1.1151\n",
            "Epoch 19/200\n",
            "6/6 [==============================] - 0s 7ms/step - loss: 0.7780 - mae: 0.6902 - mse: 0.7780 - val_loss: 0.9915 - val_mae: 0.7636 - val_mse: 0.9915\n",
            "Epoch 20/200\n",
            "6/6 [==============================] - 0s 7ms/step - loss: 0.7618 - mae: 0.6782 - mse: 0.7618 - val_loss: 1.1147 - val_mae: 0.8127 - val_mse: 1.1147\n",
            "Epoch 21/200\n",
            "6/6 [==============================] - 0s 8ms/step - loss: 0.8044 - mae: 0.6895 - mse: 0.8044 - val_loss: 0.9061 - val_mae: 0.7214 - val_mse: 0.9061\n",
            "Epoch 22/200\n",
            "6/6 [==============================] - 0s 10ms/step - loss: 0.7439 - mae: 0.6467 - mse: 0.7439 - val_loss: 0.8572 - val_mae: 0.7082 - val_mse: 0.8572\n",
            "Epoch 23/200\n",
            "6/6 [==============================] - 0s 9ms/step - loss: 0.7825 - mae: 0.6818 - mse: 0.7825 - val_loss: 0.9613 - val_mae: 0.7464 - val_mse: 0.9613\n",
            "Epoch 24/200\n",
            "6/6 [==============================] - 0s 7ms/step - loss: 0.7202 - mae: 0.6460 - mse: 0.7202 - val_loss: 1.0249 - val_mae: 0.7733 - val_mse: 1.0249\n",
            "Epoch 25/200\n",
            "6/6 [==============================] - 0s 8ms/step - loss: 0.7776 - mae: 0.6587 - mse: 0.7776 - val_loss: 1.0388 - val_mae: 0.7777 - val_mse: 1.0388\n",
            "Epoch 26/200\n",
            "6/6 [==============================] - 0s 7ms/step - loss: 0.7469 - mae: 0.6536 - mse: 0.7469 - val_loss: 0.9866 - val_mae: 0.7539 - val_mse: 0.9866\n",
            "Epoch 27/200\n",
            "6/6 [==============================] - 0s 8ms/step - loss: 0.7071 - mae: 0.6362 - mse: 0.7071 - val_loss: 0.9676 - val_mae: 0.7463 - val_mse: 0.9676\n",
            "Epoch 28/200\n",
            "6/6 [==============================] - 0s 8ms/step - loss: 0.7237 - mae: 0.6577 - mse: 0.7237 - val_loss: 1.1716 - val_mae: 0.8298 - val_mse: 1.1716\n",
            "Epoch 29/200\n",
            "6/6 [==============================] - 0s 10ms/step - loss: 0.7359 - mae: 0.6383 - mse: 0.7359 - val_loss: 0.9532 - val_mae: 0.7409 - val_mse: 0.9532\n",
            "Epoch 30/200\n",
            "6/6 [==============================] - 0s 7ms/step - loss: 0.6805 - mae: 0.6159 - mse: 0.6805 - val_loss: 0.8512 - val_mae: 0.6989 - val_mse: 0.8512\n",
            "Epoch 31/200\n",
            "6/6 [==============================] - 0s 7ms/step - loss: 0.7145 - mae: 0.6291 - mse: 0.7145 - val_loss: 0.9626 - val_mae: 0.7449 - val_mse: 0.9626\n",
            "Epoch 32/200\n",
            "6/6 [==============================] - 0s 7ms/step - loss: 0.7438 - mae: 0.6516 - mse: 0.7438 - val_loss: 0.8249 - val_mae: 0.6861 - val_mse: 0.8249\n",
            "Epoch 33/200\n",
            "6/6 [==============================] - 0s 7ms/step - loss: 0.6785 - mae: 0.6164 - mse: 0.6785 - val_loss: 0.8382 - val_mae: 0.6915 - val_mse: 0.8382\n",
            "Epoch 34/200\n",
            "6/6 [==============================] - 0s 8ms/step - loss: 0.6871 - mae: 0.6182 - mse: 0.6871 - val_loss: 0.8053 - val_mae: 0.6806 - val_mse: 0.8053\n",
            "Epoch 35/200\n",
            "6/6 [==============================] - 0s 7ms/step - loss: 0.6747 - mae: 0.6083 - mse: 0.6747 - val_loss: 0.8096 - val_mae: 0.7053 - val_mse: 0.8096\n",
            "Epoch 36/200\n",
            "6/6 [==============================] - 0s 8ms/step - loss: 0.6952 - mae: 0.6267 - mse: 0.6952 - val_loss: 1.0291 - val_mae: 0.7687 - val_mse: 1.0291\n",
            "Epoch 37/200\n",
            "6/6 [==============================] - 0s 9ms/step - loss: 0.7433 - mae: 0.6352 - mse: 0.7433 - val_loss: 0.8818 - val_mae: 0.7107 - val_mse: 0.8818\n",
            "Epoch 38/200\n",
            "6/6 [==============================] - 0s 8ms/step - loss: 0.6796 - mae: 0.6179 - mse: 0.6796 - val_loss: 0.8360 - val_mae: 0.6929 - val_mse: 0.8360\n",
            "Epoch 39/200\n",
            "6/6 [==============================] - 0s 8ms/step - loss: 0.6970 - mae: 0.6116 - mse: 0.6970 - val_loss: 0.7888 - val_mae: 0.6829 - val_mse: 0.7888\n",
            "Epoch 40/200\n",
            "6/6 [==============================] - 0s 7ms/step - loss: 0.6790 - mae: 0.6069 - mse: 0.6790 - val_loss: 0.7913 - val_mae: 0.6905 - val_mse: 0.7913\n",
            "Epoch 41/200\n",
            "6/6 [==============================] - 0s 7ms/step - loss: 0.6901 - mae: 0.6166 - mse: 0.6901 - val_loss: 0.8065 - val_mae: 0.6749 - val_mse: 0.8065\n",
            "Epoch 42/200\n",
            "6/6 [==============================] - 0s 7ms/step - loss: 0.6718 - mae: 0.6090 - mse: 0.6718 - val_loss: 0.8545 - val_mae: 0.6984 - val_mse: 0.8545\n",
            "Epoch 43/200\n",
            "6/6 [==============================] - 0s 7ms/step - loss: 0.6661 - mae: 0.5936 - mse: 0.6661 - val_loss: 0.7762 - val_mae: 0.6719 - val_mse: 0.7762\n",
            "Epoch 44/200\n",
            "6/6 [==============================] - 0s 8ms/step - loss: 0.6626 - mae: 0.5928 - mse: 0.6626 - val_loss: 1.0793 - val_mae: 0.7924 - val_mse: 1.0793\n",
            "Epoch 45/200\n",
            "6/6 [==============================] - 0s 9ms/step - loss: 0.6587 - mae: 0.6072 - mse: 0.6587 - val_loss: 0.9056 - val_mae: 0.7141 - val_mse: 0.9056\n",
            "Epoch 46/200\n",
            "6/6 [==============================] - 0s 8ms/step - loss: 0.7138 - mae: 0.6267 - mse: 0.7138 - val_loss: 0.8233 - val_mae: 0.6830 - val_mse: 0.8233\n",
            "Epoch 47/200\n",
            "6/6 [==============================] - 0s 7ms/step - loss: 0.6524 - mae: 0.5937 - mse: 0.6524 - val_loss: 0.7752 - val_mae: 0.6636 - val_mse: 0.7752\n",
            "Epoch 48/200\n",
            "6/6 [==============================] - 0s 7ms/step - loss: 0.6755 - mae: 0.6108 - mse: 0.6755 - val_loss: 1.1048 - val_mae: 0.8038 - val_mse: 1.1048\n",
            "Epoch 49/200\n",
            "6/6 [==============================] - 0s 9ms/step - loss: 0.7297 - mae: 0.6290 - mse: 0.7297 - val_loss: 0.8944 - val_mae: 0.7086 - val_mse: 0.8944\n",
            "Epoch 50/200\n",
            "6/6 [==============================] - 0s 7ms/step - loss: 0.6484 - mae: 0.5929 - mse: 0.6484 - val_loss: 0.9438 - val_mae: 0.7297 - val_mse: 0.9438\n",
            "Epoch 51/200\n",
            "6/6 [==============================] - 0s 7ms/step - loss: 0.6671 - mae: 0.6042 - mse: 0.6671 - val_loss: 0.9912 - val_mae: 0.7500 - val_mse: 0.9912\n",
            "Epoch 52/200\n",
            "6/6 [==============================] - 0s 8ms/step - loss: 0.6776 - mae: 0.6052 - mse: 0.6776 - val_loss: 1.0402 - val_mae: 0.7727 - val_mse: 1.0402\n",
            "Epoch 53/200\n",
            "6/6 [==============================] - 0s 7ms/step - loss: 0.6383 - mae: 0.5768 - mse: 0.6383 - val_loss: 0.7939 - val_mae: 0.6728 - val_mse: 0.7939\n",
            "Epoch 54/200\n",
            "6/6 [==============================] - 0s 7ms/step - loss: 0.6462 - mae: 0.5910 - mse: 0.6462 - val_loss: 1.0268 - val_mae: 0.7681 - val_mse: 1.0268\n",
            "Epoch 55/200\n",
            "6/6 [==============================] - 0s 7ms/step - loss: 0.6903 - mae: 0.6102 - mse: 0.6903 - val_loss: 0.9960 - val_mae: 0.7520 - val_mse: 0.9960\n",
            "Epoch 56/200\n",
            "6/6 [==============================] - 0s 7ms/step - loss: 0.6663 - mae: 0.5987 - mse: 0.6663 - val_loss: 1.0523 - val_mae: 0.7797 - val_mse: 1.0523\n",
            "Epoch 57/200\n",
            "6/6 [==============================] - 0s 7ms/step - loss: 0.6631 - mae: 0.5940 - mse: 0.6631 - val_loss: 0.8324 - val_mae: 0.6890 - val_mse: 0.8324\n",
            "Epoch 58/200\n",
            "6/6 [==============================] - 0s 7ms/step - loss: 0.6433 - mae: 0.5876 - mse: 0.6433 - val_loss: 0.8710 - val_mae: 0.7035 - val_mse: 0.8710\n",
            "Epoch 59/200\n",
            "6/6 [==============================] - 0s 7ms/step - loss: 0.6842 - mae: 0.6104 - mse: 0.6842 - val_loss: 0.7788 - val_mae: 0.6746 - val_mse: 0.7788\n",
            "Epoch 60/200\n",
            "6/6 [==============================] - 0s 7ms/step - loss: 0.6471 - mae: 0.5924 - mse: 0.6471 - val_loss: 0.8869 - val_mae: 0.7088 - val_mse: 0.8869\n",
            "Epoch 61/200\n",
            "6/6 [==============================] - 0s 7ms/step - loss: 0.6237 - mae: 0.5743 - mse: 0.6237 - val_loss: 0.7677 - val_mae: 0.6705 - val_mse: 0.7677\n",
            "Epoch 62/200\n",
            "6/6 [==============================] - 0s 7ms/step - loss: 0.7491 - mae: 0.6365 - mse: 0.7491 - val_loss: 0.7859 - val_mae: 0.6706 - val_mse: 0.7859\n",
            "Epoch 63/200\n",
            "6/6 [==============================] - 0s 7ms/step - loss: 0.6476 - mae: 0.5906 - mse: 0.6476 - val_loss: 0.9080 - val_mae: 0.7162 - val_mse: 0.9080\n",
            "Epoch 64/200\n",
            "6/6 [==============================] - 0s 6ms/step - loss: 0.6425 - mae: 0.5847 - mse: 0.6425 - val_loss: 1.2022 - val_mae: 0.8457 - val_mse: 1.2022\n",
            "Epoch 65/200\n",
            "6/6 [==============================] - 0s 7ms/step - loss: 0.5966 - mae: 0.5752 - mse: 0.5966 - val_loss: 0.8360 - val_mae: 0.7173 - val_mse: 0.8360\n",
            "Epoch 66/200\n",
            "6/6 [==============================] - 0s 6ms/step - loss: 0.6738 - mae: 0.6084 - mse: 0.6738 - val_loss: 0.9140 - val_mae: 0.7184 - val_mse: 0.9140\n",
            "Epoch 67/200\n",
            "6/6 [==============================] - 0s 7ms/step - loss: 0.6342 - mae: 0.5822 - mse: 0.6342 - val_loss: 0.7774 - val_mae: 0.6707 - val_mse: 0.7774\n",
            "Epoch 68/200\n",
            "6/6 [==============================] - 0s 7ms/step - loss: 0.6599 - mae: 0.5814 - mse: 0.6599 - val_loss: 0.7694 - val_mae: 0.6790 - val_mse: 0.7694\n",
            "Epoch 69/200\n",
            "6/6 [==============================] - 0s 7ms/step - loss: 0.6426 - mae: 0.5827 - mse: 0.6426 - val_loss: 0.7666 - val_mae: 0.6775 - val_mse: 0.7666\n",
            "Epoch 70/200\n",
            "6/6 [==============================] - 0s 10ms/step - loss: 0.6250 - mae: 0.5884 - mse: 0.6250 - val_loss: 0.8287 - val_mae: 0.6875 - val_mse: 0.8287\n",
            "Epoch 71/200\n",
            "6/6 [==============================] - 0s 7ms/step - loss: 0.6673 - mae: 0.5948 - mse: 0.6673 - val_loss: 0.7966 - val_mae: 0.6728 - val_mse: 0.7966\n",
            "Epoch 72/200\n",
            "6/6 [==============================] - 0s 6ms/step - loss: 0.6174 - mae: 0.5659 - mse: 0.6174 - val_loss: 0.7678 - val_mae: 0.6756 - val_mse: 0.7678\n",
            "Epoch 73/200\n",
            "6/6 [==============================] - 0s 7ms/step - loss: 0.6415 - mae: 0.5924 - mse: 0.6415 - val_loss: 0.7626 - val_mae: 0.6722 - val_mse: 0.7626\n",
            "Epoch 74/200\n",
            "6/6 [==============================] - 0s 7ms/step - loss: 0.6387 - mae: 0.5956 - mse: 0.6387 - val_loss: 1.1093 - val_mae: 0.8040 - val_mse: 1.1093\n",
            "Epoch 75/200\n",
            "6/6 [==============================] - 0s 7ms/step - loss: 0.6463 - mae: 0.5791 - mse: 0.6463 - val_loss: 0.7867 - val_mae: 0.6699 - val_mse: 0.7867\n",
            "Epoch 76/200\n",
            "6/6 [==============================] - 0s 8ms/step - loss: 0.6688 - mae: 0.5947 - mse: 0.6688 - val_loss: 0.7963 - val_mae: 0.6725 - val_mse: 0.7963\n",
            "Epoch 77/200\n",
            "6/6 [==============================] - 0s 8ms/step - loss: 0.6319 - mae: 0.5789 - mse: 0.6319 - val_loss: 0.7809 - val_mae: 0.6704 - val_mse: 0.7809\n",
            "Epoch 78/200\n",
            "6/6 [==============================] - 0s 7ms/step - loss: 0.6231 - mae: 0.5724 - mse: 0.6231 - val_loss: 0.8612 - val_mae: 0.7011 - val_mse: 0.8612\n",
            "Epoch 79/200\n",
            "6/6 [==============================] - 0s 7ms/step - loss: 0.6433 - mae: 0.5739 - mse: 0.6433 - val_loss: 0.7700 - val_mae: 0.6724 - val_mse: 0.7700\n",
            "Epoch 80/200\n",
            "6/6 [==============================] - 0s 7ms/step - loss: 0.6842 - mae: 0.6112 - mse: 0.6842 - val_loss: 0.8014 - val_mae: 0.6755 - val_mse: 0.8014\n",
            "Epoch 81/200\n",
            "6/6 [==============================] - 0s 11ms/step - loss: 0.6504 - mae: 0.5930 - mse: 0.6504 - val_loss: 1.0180 - val_mae: 0.7641 - val_mse: 1.0180\n",
            "Epoch 82/200\n",
            "6/6 [==============================] - 0s 7ms/step - loss: 0.6198 - mae: 0.5773 - mse: 0.6198 - val_loss: 1.0157 - val_mae: 0.7624 - val_mse: 1.0157\n",
            "Epoch 83/200\n",
            "6/6 [==============================] - 0s 9ms/step - loss: 0.6358 - mae: 0.5780 - mse: 0.6358 - val_loss: 0.9063 - val_mae: 0.7169 - val_mse: 0.9063\n",
            "Epoch 84/200\n",
            "6/6 [==============================] - 0s 7ms/step - loss: 0.6289 - mae: 0.5744 - mse: 0.6289 - val_loss: 0.7750 - val_mae: 0.6698 - val_mse: 0.7750\n",
            "Epoch 85/200\n",
            "6/6 [==============================] - 0s 7ms/step - loss: 0.6030 - mae: 0.5660 - mse: 0.6030 - val_loss: 0.8473 - val_mae: 0.6965 - val_mse: 0.8473\n",
            "Epoch 86/200\n",
            "6/6 [==============================] - 0s 8ms/step - loss: 0.6868 - mae: 0.6098 - mse: 0.6868 - val_loss: 0.9476 - val_mae: 0.7324 - val_mse: 0.9476\n",
            "Epoch 87/200\n",
            "6/6 [==============================] - 0s 8ms/step - loss: 0.6445 - mae: 0.5830 - mse: 0.6445 - val_loss: 0.9879 - val_mae: 0.7496 - val_mse: 0.9879\n",
            "Epoch 88/200\n",
            "6/6 [==============================] - 0s 7ms/step - loss: 0.6440 - mae: 0.5715 - mse: 0.6440 - val_loss: 0.8037 - val_mae: 0.6788 - val_mse: 0.8037\n",
            "Epoch 89/200\n",
            "6/6 [==============================] - 0s 7ms/step - loss: 0.6342 - mae: 0.5755 - mse: 0.6342 - val_loss: 0.7752 - val_mae: 0.6764 - val_mse: 0.7752\n",
            "Epoch 90/200\n",
            "6/6 [==============================] - 0s 7ms/step - loss: 0.5930 - mae: 0.5590 - mse: 0.5930 - val_loss: 0.8529 - val_mae: 0.6984 - val_mse: 0.8529\n",
            "Epoch 91/200\n",
            "6/6 [==============================] - 0s 9ms/step - loss: 0.6513 - mae: 0.6077 - mse: 0.6513 - val_loss: 0.7825 - val_mae: 0.6706 - val_mse: 0.7825\n",
            "Epoch 92/200\n",
            "6/6 [==============================] - 0s 7ms/step - loss: 0.6115 - mae: 0.5735 - mse: 0.6115 - val_loss: 0.8144 - val_mae: 0.6831 - val_mse: 0.8144\n",
            "Epoch 93/200\n",
            "6/6 [==============================] - 0s 7ms/step - loss: 0.6447 - mae: 0.5853 - mse: 0.6447 - val_loss: 0.9321 - val_mae: 0.7277 - val_mse: 0.9321\n",
            "Epoch 94/200\n",
            "6/6 [==============================] - 0s 8ms/step - loss: 0.6132 - mae: 0.5691 - mse: 0.6132 - val_loss: 1.0057 - val_mae: 0.7582 - val_mse: 1.0057\n",
            "Epoch 95/200\n",
            "6/6 [==============================] - 0s 7ms/step - loss: 0.6366 - mae: 0.5895 - mse: 0.6366 - val_loss: 1.0622 - val_mae: 0.7809 - val_mse: 1.0622\n",
            "Epoch 96/200\n",
            "6/6 [==============================] - 0s 7ms/step - loss: 0.6593 - mae: 0.5925 - mse: 0.6593 - val_loss: 1.0138 - val_mae: 0.7626 - val_mse: 1.0138\n",
            "Epoch 97/200\n",
            "6/6 [==============================] - 0s 7ms/step - loss: 0.6146 - mae: 0.5692 - mse: 0.6146 - val_loss: 0.8692 - val_mae: 0.7035 - val_mse: 0.8692\n",
            "Epoch 98/200\n",
            "6/6 [==============================] - 0s 7ms/step - loss: 0.6041 - mae: 0.5668 - mse: 0.6041 - val_loss: 0.8435 - val_mae: 0.6938 - val_mse: 0.8435\n",
            "Epoch 99/200\n",
            "6/6 [==============================] - 0s 11ms/step - loss: 0.6337 - mae: 0.5787 - mse: 0.6337 - val_loss: 0.8652 - val_mae: 0.7022 - val_mse: 0.8652\n",
            "Epoch 100/200\n",
            "6/6 [==============================] - 0s 7ms/step - loss: 0.6426 - mae: 0.5903 - mse: 0.6426 - val_loss: 0.8989 - val_mae: 0.7159 - val_mse: 0.8989\n",
            "Epoch 101/200\n",
            "6/6 [==============================] - 0s 7ms/step - loss: 0.6532 - mae: 0.5956 - mse: 0.6532 - val_loss: 0.7685 - val_mae: 0.6660 - val_mse: 0.7685\n",
            "Epoch 102/200\n",
            "6/6 [==============================] - 0s 7ms/step - loss: 0.5905 - mae: 0.5593 - mse: 0.5905 - val_loss: 0.7704 - val_mae: 0.6703 - val_mse: 0.7704\n",
            "Epoch 103/200\n",
            "6/6 [==============================] - 0s 7ms/step - loss: 0.5948 - mae: 0.5676 - mse: 0.5948 - val_loss: 0.9626 - val_mae: 0.7406 - val_mse: 0.9626\n",
            "Epoch 104/200\n",
            "6/6 [==============================] - 0s 8ms/step - loss: 0.6382 - mae: 0.5775 - mse: 0.6382 - val_loss: 0.7815 - val_mae: 0.6672 - val_mse: 0.7815\n",
            "Epoch 105/200\n",
            "6/6 [==============================] - 0s 7ms/step - loss: 0.6130 - mae: 0.5752 - mse: 0.6130 - val_loss: 0.8193 - val_mae: 0.6842 - val_mse: 0.8193\n",
            "Epoch 106/200\n",
            "6/6 [==============================] - 0s 7ms/step - loss: 0.6096 - mae: 0.5490 - mse: 0.6096 - val_loss: 0.7826 - val_mae: 0.6799 - val_mse: 0.7826\n",
            "Epoch 107/200\n",
            "6/6 [==============================] - 0s 7ms/step - loss: 0.6554 - mae: 0.5888 - mse: 0.6554 - val_loss: 0.7991 - val_mae: 0.6891 - val_mse: 0.7991\n",
            "Epoch 108/200\n",
            "6/6 [==============================] - 0s 6ms/step - loss: 0.6665 - mae: 0.6057 - mse: 0.6665 - val_loss: 0.8728 - val_mae: 0.7044 - val_mse: 0.8728\n",
            "Epoch 109/200\n",
            "6/6 [==============================] - 0s 6ms/step - loss: 0.5981 - mae: 0.5582 - mse: 0.5981 - val_loss: 0.7909 - val_mae: 0.6830 - val_mse: 0.7909\n",
            "Epoch 110/200\n",
            "6/6 [==============================] - 0s 8ms/step - loss: 0.6556 - mae: 0.5922 - mse: 0.6556 - val_loss: 0.8038 - val_mae: 0.6776 - val_mse: 0.8038\n",
            "Epoch 111/200\n",
            "6/6 [==============================] - 0s 10ms/step - loss: 0.5973 - mae: 0.5668 - mse: 0.5973 - val_loss: 0.8096 - val_mae: 0.6796 - val_mse: 0.8096\n",
            "Epoch 112/200\n",
            "6/6 [==============================] - 0s 7ms/step - loss: 0.6186 - mae: 0.5717 - mse: 0.6186 - val_loss: 0.7710 - val_mae: 0.6680 - val_mse: 0.7710\n",
            "Epoch 113/200\n",
            "6/6 [==============================] - 0s 7ms/step - loss: 0.6109 - mae: 0.5649 - mse: 0.6109 - val_loss: 0.8373 - val_mae: 0.6924 - val_mse: 0.8373\n",
            "Epoch 114/200\n",
            "6/6 [==============================] - 0s 7ms/step - loss: 0.6242 - mae: 0.5866 - mse: 0.6242 - val_loss: 0.7757 - val_mae: 0.6654 - val_mse: 0.7757\n",
            "Epoch 115/200\n",
            "6/6 [==============================] - 0s 7ms/step - loss: 0.6071 - mae: 0.5669 - mse: 0.6071 - val_loss: 0.7858 - val_mae: 0.6684 - val_mse: 0.7858\n",
            "Epoch 116/200\n",
            "6/6 [==============================] - 0s 8ms/step - loss: 0.6243 - mae: 0.5836 - mse: 0.6243 - val_loss: 0.9279 - val_mae: 0.7274 - val_mse: 0.9279\n",
            "Epoch 117/200\n",
            "6/6 [==============================] - 0s 8ms/step - loss: 0.5941 - mae: 0.5717 - mse: 0.5941 - val_loss: 1.2043 - val_mae: 0.8466 - val_mse: 1.2043\n",
            "Epoch 118/200\n",
            "6/6 [==============================] - 0s 8ms/step - loss: 0.6574 - mae: 0.5932 - mse: 0.6574 - val_loss: 0.8262 - val_mae: 0.6863 - val_mse: 0.8262\n",
            "Epoch 119/200\n",
            "6/6 [==============================] - 0s 7ms/step - loss: 0.5876 - mae: 0.5577 - mse: 0.5876 - val_loss: 0.8044 - val_mae: 0.6796 - val_mse: 0.8044\n",
            "Epoch 120/200\n",
            "6/6 [==============================] - 0s 8ms/step - loss: 0.6062 - mae: 0.5766 - mse: 0.6062 - val_loss: 0.7689 - val_mae: 0.6657 - val_mse: 0.7689\n",
            "Epoch 121/200\n",
            "6/6 [==============================] - 0s 7ms/step - loss: 0.5975 - mae: 0.5651 - mse: 0.5975 - val_loss: 0.7747 - val_mae: 0.6634 - val_mse: 0.7747\n",
            "Epoch 122/200\n",
            "6/6 [==============================] - 0s 7ms/step - loss: 0.6101 - mae: 0.5696 - mse: 0.6101 - val_loss: 0.8739 - val_mae: 0.7067 - val_mse: 0.8739\n",
            "Epoch 123/200\n",
            "6/6 [==============================] - 0s 7ms/step - loss: 0.6025 - mae: 0.5707 - mse: 0.6025 - val_loss: 0.8426 - val_mae: 0.7058 - val_mse: 0.8426\n",
            "Epoch 124/200\n",
            "6/6 [==============================] - 0s 10ms/step - loss: 0.6323 - mae: 0.5883 - mse: 0.6323 - val_loss: 0.8547 - val_mae: 0.6969 - val_mse: 0.8547\n",
            "Epoch 125/200\n",
            "6/6 [==============================] - 0s 7ms/step - loss: 0.5863 - mae: 0.5593 - mse: 0.5863 - val_loss: 0.7726 - val_mae: 0.6676 - val_mse: 0.7726\n",
            "Epoch 126/200\n",
            "6/6 [==============================] - 0s 8ms/step - loss: 0.5897 - mae: 0.5636 - mse: 0.5897 - val_loss: 0.7653 - val_mae: 0.6611 - val_mse: 0.7653\n",
            "Epoch 127/200\n",
            "6/6 [==============================] - 0s 7ms/step - loss: 0.6468 - mae: 0.5758 - mse: 0.6468 - val_loss: 0.9276 - val_mae: 0.7283 - val_mse: 0.9276\n",
            "Epoch 128/200\n",
            "6/6 [==============================] - 0s 7ms/step - loss: 0.6068 - mae: 0.5642 - mse: 0.6068 - val_loss: 1.0301 - val_mae: 0.7713 - val_mse: 1.0301\n",
            "Epoch 129/200\n",
            "6/6 [==============================] - 0s 7ms/step - loss: 0.5915 - mae: 0.5618 - mse: 0.5915 - val_loss: 1.0257 - val_mae: 0.7685 - val_mse: 1.0257\n",
            "Epoch 130/200\n",
            "6/6 [==============================] - 0s 7ms/step - loss: 0.6005 - mae: 0.5662 - mse: 0.6005 - val_loss: 0.7757 - val_mae: 0.6691 - val_mse: 0.7757\n",
            "Epoch 131/200\n",
            "6/6 [==============================] - 0s 7ms/step - loss: 0.6259 - mae: 0.5697 - mse: 0.6259 - val_loss: 0.9772 - val_mae: 0.7503 - val_mse: 0.9772\n",
            "Epoch 132/200\n",
            "6/6 [==============================] - 0s 8ms/step - loss: 0.6033 - mae: 0.5761 - mse: 0.6033 - val_loss: 0.9462 - val_mae: 0.7361 - val_mse: 0.9462\n",
            "Epoch 133/200\n",
            "6/6 [==============================] - 0s 7ms/step - loss: 0.6089 - mae: 0.5523 - mse: 0.6089 - val_loss: 0.9053 - val_mae: 0.7189 - val_mse: 0.9053\n",
            "Epoch 134/200\n",
            "6/6 [==============================] - 0s 7ms/step - loss: 0.6145 - mae: 0.5781 - mse: 0.6145 - val_loss: 0.8989 - val_mae: 0.7158 - val_mse: 0.8989\n",
            "Epoch 135/200\n",
            "6/6 [==============================] - 0s 6ms/step - loss: 0.6156 - mae: 0.5692 - mse: 0.6156 - val_loss: 0.7687 - val_mae: 0.6592 - val_mse: 0.7687\n",
            "Epoch 136/200\n",
            "6/6 [==============================] - 0s 8ms/step - loss: 0.5949 - mae: 0.5618 - mse: 0.5949 - val_loss: 0.9473 - val_mae: 0.7362 - val_mse: 0.9473\n",
            "Epoch 137/200\n",
            "6/6 [==============================] - 0s 7ms/step - loss: 0.6270 - mae: 0.5824 - mse: 0.6270 - val_loss: 0.7885 - val_mae: 0.6736 - val_mse: 0.7885\n",
            "Epoch 138/200\n",
            "6/6 [==============================] - 0s 7ms/step - loss: 0.6160 - mae: 0.5605 - mse: 0.6160 - val_loss: 0.7714 - val_mae: 0.6607 - val_mse: 0.7714\n",
            "Epoch 139/200\n",
            "6/6 [==============================] - 0s 7ms/step - loss: 0.5913 - mae: 0.5608 - mse: 0.5913 - val_loss: 0.7920 - val_mae: 0.6742 - val_mse: 0.7920\n",
            "Epoch 140/200\n",
            "6/6 [==============================] - 0s 8ms/step - loss: 0.6429 - mae: 0.5971 - mse: 0.6429 - val_loss: 0.8118 - val_mae: 0.6799 - val_mse: 0.8118\n",
            "Epoch 141/200\n",
            "6/6 [==============================] - 0s 8ms/step - loss: 0.5913 - mae: 0.5558 - mse: 0.5913 - val_loss: 0.7911 - val_mae: 0.6709 - val_mse: 0.7911\n",
            "Epoch 142/200\n",
            "6/6 [==============================] - 0s 7ms/step - loss: 0.6304 - mae: 0.5756 - mse: 0.6304 - val_loss: 0.8668 - val_mae: 0.7034 - val_mse: 0.8668\n",
            "Epoch 143/200\n",
            "6/6 [==============================] - 0s 8ms/step - loss: 0.6201 - mae: 0.5754 - mse: 0.6201 - val_loss: 0.7966 - val_mae: 0.6716 - val_mse: 0.7966\n",
            "Epoch 144/200\n",
            "6/6 [==============================] - 0s 7ms/step - loss: 0.5938 - mae: 0.5609 - mse: 0.5938 - val_loss: 0.8721 - val_mae: 0.7041 - val_mse: 0.8721\n",
            "Epoch 145/200\n",
            "6/6 [==============================] - 0s 8ms/step - loss: 0.6090 - mae: 0.5699 - mse: 0.6090 - val_loss: 0.9273 - val_mae: 0.7287 - val_mse: 0.9273\n",
            "Epoch 146/200\n",
            "6/6 [==============================] - 0s 7ms/step - loss: 0.5931 - mae: 0.5667 - mse: 0.5931 - val_loss: 0.9715 - val_mae: 0.7488 - val_mse: 0.9715\n",
            "Epoch 147/200\n",
            "6/6 [==============================] - 0s 7ms/step - loss: 0.6415 - mae: 0.5795 - mse: 0.6415 - val_loss: 0.8955 - val_mae: 0.7143 - val_mse: 0.8955\n",
            "Epoch 148/200\n",
            "6/6 [==============================] - 0s 9ms/step - loss: 0.5754 - mae: 0.5580 - mse: 0.5754 - val_loss: 0.8550 - val_mae: 0.6976 - val_mse: 0.8550\n",
            "Epoch 149/200\n",
            "6/6 [==============================] - 0s 8ms/step - loss: 0.5769 - mae: 0.5417 - mse: 0.5769 - val_loss: 0.8980 - val_mae: 0.7150 - val_mse: 0.8980\n",
            "Epoch 150/200\n",
            "6/6 [==============================] - 0s 7ms/step - loss: 0.5986 - mae: 0.5667 - mse: 0.5986 - val_loss: 0.8424 - val_mae: 0.6915 - val_mse: 0.8424\n",
            "Epoch 151/200\n",
            "6/6 [==============================] - 0s 7ms/step - loss: 0.5782 - mae: 0.5560 - mse: 0.5782 - val_loss: 0.7770 - val_mae: 0.6644 - val_mse: 0.7770\n",
            "Epoch 152/200\n",
            "6/6 [==============================] - 0s 9ms/step - loss: 0.5837 - mae: 0.5671 - mse: 0.5837 - val_loss: 0.8994 - val_mae: 0.7143 - val_mse: 0.8994\n",
            "Epoch 153/200\n",
            "6/6 [==============================] - 0s 8ms/step - loss: 0.5894 - mae: 0.5570 - mse: 0.5894 - val_loss: 1.0939 - val_mae: 0.7988 - val_mse: 1.0939\n",
            "Epoch 154/200\n",
            "6/6 [==============================] - 0s 8ms/step - loss: 0.6615 - mae: 0.6079 - mse: 0.6615 - val_loss: 0.8374 - val_mae: 0.6901 - val_mse: 0.8374\n",
            "Epoch 155/200\n",
            "6/6 [==============================] - 0s 7ms/step - loss: 0.6128 - mae: 0.5776 - mse: 0.6128 - val_loss: 0.8851 - val_mae: 0.7087 - val_mse: 0.8851\n",
            "Epoch 156/200\n",
            "6/6 [==============================] - 0s 7ms/step - loss: 0.6017 - mae: 0.5690 - mse: 0.6017 - val_loss: 0.7849 - val_mae: 0.6688 - val_mse: 0.7849\n",
            "Epoch 157/200\n",
            "6/6 [==============================] - 0s 7ms/step - loss: 0.5961 - mae: 0.5682 - mse: 0.5961 - val_loss: 0.7692 - val_mae: 0.6589 - val_mse: 0.7692\n",
            "Epoch 158/200\n",
            "6/6 [==============================] - 0s 7ms/step - loss: 0.5765 - mae: 0.5524 - mse: 0.5765 - val_loss: 0.7784 - val_mae: 0.6634 - val_mse: 0.7784\n",
            "Epoch 159/200\n",
            "6/6 [==============================] - 0s 7ms/step - loss: 0.6337 - mae: 0.5829 - mse: 0.6337 - val_loss: 0.7709 - val_mae: 0.6590 - val_mse: 0.7709\n",
            "Epoch 160/200\n",
            "6/6 [==============================] - 0s 7ms/step - loss: 0.6027 - mae: 0.5634 - mse: 0.6027 - val_loss: 0.8407 - val_mae: 0.6912 - val_mse: 0.8407\n",
            "Epoch 161/200\n",
            "6/6 [==============================] - 0s 8ms/step - loss: 0.5780 - mae: 0.5587 - mse: 0.5780 - val_loss: 0.8542 - val_mae: 0.6956 - val_mse: 0.8542\n",
            "Epoch 162/200\n",
            "6/6 [==============================] - 0s 7ms/step - loss: 0.5837 - mae: 0.5481 - mse: 0.5837 - val_loss: 0.7751 - val_mae: 0.6620 - val_mse: 0.7751\n",
            "Epoch 163/200\n",
            "6/6 [==============================] - 0s 7ms/step - loss: 0.6575 - mae: 0.5772 - mse: 0.6575 - val_loss: 0.7723 - val_mae: 0.6608 - val_mse: 0.7723\n",
            "Epoch 164/200\n",
            "6/6 [==============================] - 0s 8ms/step - loss: 0.5657 - mae: 0.5490 - mse: 0.5657 - val_loss: 0.8604 - val_mae: 0.6984 - val_mse: 0.8604\n",
            "Epoch 165/200\n",
            "6/6 [==============================] - 0s 7ms/step - loss: 0.5862 - mae: 0.5615 - mse: 0.5862 - val_loss: 1.1810 - val_mae: 0.8424 - val_mse: 1.1810\n",
            "Epoch 166/200\n",
            "6/6 [==============================] - 0s 8ms/step - loss: 0.6161 - mae: 0.5671 - mse: 0.6161 - val_loss: 0.7928 - val_mae: 0.6720 - val_mse: 0.7928\n",
            "Epoch 167/200\n",
            "6/6 [==============================] - 0s 7ms/step - loss: 0.6039 - mae: 0.5625 - mse: 0.6039 - val_loss: 0.9805 - val_mae: 0.7513 - val_mse: 0.9805\n",
            "Epoch 168/200\n",
            "6/6 [==============================] - 0s 6ms/step - loss: 0.6159 - mae: 0.5791 - mse: 0.6159 - val_loss: 0.7745 - val_mae: 0.6603 - val_mse: 0.7745\n",
            "Epoch 169/200\n",
            "6/6 [==============================] - 0s 8ms/step - loss: 0.6140 - mae: 0.5703 - mse: 0.6140 - val_loss: 0.8544 - val_mae: 0.7049 - val_mse: 0.8544\n",
            "Epoch 170/200\n",
            "6/6 [==============================] - 0s 8ms/step - loss: 0.6180 - mae: 0.5898 - mse: 0.6180 - val_loss: 0.7799 - val_mae: 0.6648 - val_mse: 0.7799\n",
            "Epoch 171/200\n",
            "6/6 [==============================] - 0s 7ms/step - loss: 0.6029 - mae: 0.5696 - mse: 0.6029 - val_loss: 0.9579 - val_mae: 0.7433 - val_mse: 0.9579\n",
            "Epoch 172/200\n",
            "6/6 [==============================] - 0s 8ms/step - loss: 0.5799 - mae: 0.5411 - mse: 0.5799 - val_loss: 0.7896 - val_mae: 0.6701 - val_mse: 0.7896\n",
            "Epoch 173/200\n",
            "6/6 [==============================] - 0s 9ms/step - loss: 0.6137 - mae: 0.5782 - mse: 0.6137 - val_loss: 0.7841 - val_mae: 0.6675 - val_mse: 0.7841\n",
            "Epoch 174/200\n",
            "6/6 [==============================] - 0s 7ms/step - loss: 0.6333 - mae: 0.5737 - mse: 0.6333 - val_loss: 0.7792 - val_mae: 0.6636 - val_mse: 0.7792\n",
            "Epoch 175/200\n",
            "6/6 [==============================] - 0s 7ms/step - loss: 0.5940 - mae: 0.5659 - mse: 0.5940 - val_loss: 0.7785 - val_mae: 0.6633 - val_mse: 0.7785\n",
            "Epoch 176/200\n",
            "6/6 [==============================] - 0s 7ms/step - loss: 0.5702 - mae: 0.5624 - mse: 0.5702 - val_loss: 0.7910 - val_mae: 0.6704 - val_mse: 0.7910\n",
            "Epoch 177/200\n",
            "6/6 [==============================] - 0s 8ms/step - loss: 0.6255 - mae: 0.5782 - mse: 0.6255 - val_loss: 0.8297 - val_mae: 0.6869 - val_mse: 0.8297\n",
            "Epoch 178/200\n",
            "6/6 [==============================] - 0s 7ms/step - loss: 0.6032 - mae: 0.5737 - mse: 0.6032 - val_loss: 0.8080 - val_mae: 0.6775 - val_mse: 0.8080\n",
            "Epoch 179/200\n",
            "6/6 [==============================] - 0s 8ms/step - loss: 0.5752 - mae: 0.5479 - mse: 0.5752 - val_loss: 0.8621 - val_mae: 0.7004 - val_mse: 0.8621\n",
            "Epoch 180/200\n",
            "6/6 [==============================] - 0s 7ms/step - loss: 0.6274 - mae: 0.5888 - mse: 0.6274 - val_loss: 0.7694 - val_mae: 0.6564 - val_mse: 0.7694\n",
            "Epoch 181/200\n",
            "6/6 [==============================] - 0s 9ms/step - loss: 0.5909 - mae: 0.5681 - mse: 0.5909 - val_loss: 0.8588 - val_mae: 0.6987 - val_mse: 0.8588\n",
            "Epoch 182/200\n",
            "6/6 [==============================] - 0s 8ms/step - loss: 0.5923 - mae: 0.5547 - mse: 0.5923 - val_loss: 0.7702 - val_mae: 0.6568 - val_mse: 0.7702\n",
            "Epoch 183/200\n",
            "6/6 [==============================] - 0s 7ms/step - loss: 0.5932 - mae: 0.5749 - mse: 0.5932 - val_loss: 0.8569 - val_mae: 0.6976 - val_mse: 0.8569\n",
            "Epoch 184/200\n",
            "6/6 [==============================] - 0s 7ms/step - loss: 0.6185 - mae: 0.5602 - mse: 0.6185 - val_loss: 0.8474 - val_mae: 0.6938 - val_mse: 0.8474\n",
            "Epoch 185/200\n",
            "6/6 [==============================] - 0s 7ms/step - loss: 0.5640 - mae: 0.5424 - mse: 0.5640 - val_loss: 0.7808 - val_mae: 0.6639 - val_mse: 0.7808\n",
            "Epoch 186/200\n",
            "6/6 [==============================] - 0s 8ms/step - loss: 0.6259 - mae: 0.5913 - mse: 0.6259 - val_loss: 0.8342 - val_mae: 0.6904 - val_mse: 0.8342\n",
            "Epoch 187/200\n",
            "6/6 [==============================] - 0s 7ms/step - loss: 0.5775 - mae: 0.5623 - mse: 0.5775 - val_loss: 0.7952 - val_mae: 0.6715 - val_mse: 0.7952\n",
            "Epoch 188/200\n",
            "6/6 [==============================] - 0s 8ms/step - loss: 0.6189 - mae: 0.5723 - mse: 0.6189 - val_loss: 0.7748 - val_mae: 0.6594 - val_mse: 0.7748\n",
            "Epoch 189/200\n",
            "6/6 [==============================] - 0s 7ms/step - loss: 0.6088 - mae: 0.5680 - mse: 0.6088 - val_loss: 0.8316 - val_mae: 0.6884 - val_mse: 0.8316\n",
            "Epoch 190/200\n",
            "6/6 [==============================] - 0s 7ms/step - loss: 0.5862 - mae: 0.5459 - mse: 0.5862 - val_loss: 1.0014 - val_mae: 0.7657 - val_mse: 1.0014\n",
            "Epoch 191/200\n",
            "6/6 [==============================] - 0s 8ms/step - loss: 0.5956 - mae: 0.5648 - mse: 0.5956 - val_loss: 0.7947 - val_mae: 0.6722 - val_mse: 0.7947\n",
            "Epoch 192/200\n",
            "6/6 [==============================] - 0s 8ms/step - loss: 0.6606 - mae: 0.5824 - mse: 0.6606 - val_loss: 0.7897 - val_mae: 0.6695 - val_mse: 0.7897\n",
            "Epoch 193/200\n",
            "6/6 [==============================] - 0s 9ms/step - loss: 0.5966 - mae: 0.5681 - mse: 0.5966 - val_loss: 0.7860 - val_mae: 0.6675 - val_mse: 0.7860\n",
            "Epoch 194/200\n",
            "6/6 [==============================] - 0s 8ms/step - loss: 0.5604 - mae: 0.5499 - mse: 0.5604 - val_loss: 0.8730 - val_mae: 0.7054 - val_mse: 0.8730\n",
            "Epoch 195/200\n",
            "6/6 [==============================] - 0s 7ms/step - loss: 0.6202 - mae: 0.5758 - mse: 0.6202 - val_loss: 0.7748 - val_mae: 0.6587 - val_mse: 0.7748\n",
            "Epoch 196/200\n",
            "6/6 [==============================] - 0s 8ms/step - loss: 0.5699 - mae: 0.5470 - mse: 0.5699 - val_loss: 0.8382 - val_mae: 0.6906 - val_mse: 0.8382\n",
            "Epoch 197/200\n",
            "6/6 [==============================] - 0s 7ms/step - loss: 0.5661 - mae: 0.5456 - mse: 0.5661 - val_loss: 0.9011 - val_mae: 0.7188 - val_mse: 0.9011\n",
            "Epoch 198/200\n",
            "6/6 [==============================] - 0s 8ms/step - loss: 0.5920 - mae: 0.5612 - mse: 0.5920 - val_loss: 0.9876 - val_mae: 0.7604 - val_mse: 0.9876\n",
            "Epoch 199/200\n",
            "6/6 [==============================] - 0s 7ms/step - loss: 0.5792 - mae: 0.5591 - mse: 0.5792 - val_loss: 0.8613 - val_mae: 0.7007 - val_mse: 0.8613\n",
            "Epoch 200/200\n",
            "6/6 [==============================] - 0s 8ms/step - loss: 0.5669 - mae: 0.5422 - mse: 0.5669 - val_loss: 0.8523 - val_mae: 0.6958 - val_mse: 0.8523\n"
          ]
        }
      ]
    },
    {
      "cell_type": "code",
      "source": [
        "# graph values\n",
        "import seaborn as sns\n",
        "import matplotlib.pyplot as plt\n",
        "\n",
        "\n",
        "def plot_graph_loss(history):\n",
        "    plt.plot(history.history['mae'])\n",
        "    plt.plot(history.history['val_mae'])\n",
        "    plt.title('model error')\n",
        "    plt.ylabel('error')\n",
        "    plt.xlabel('epoch')\n",
        "    plt.legend(['train', 'test'], loc='upper left')\n",
        "    plt.show()\n",
        "    # summarize history for loss\n",
        "    plt.plot(history.history['loss'])\n",
        "    plt.plot(history.history['val_loss'])\n",
        "    plt.title('model loss')\n",
        "    plt.ylabel('loss')\n",
        "    plt.xlabel('epoch')\n",
        "    plt.legend(['train', 'test'], loc='upper left')\n",
        "    plt.show()"
      ],
      "metadata": {
        "id": "EWyB50kDpoSu"
      },
      "execution_count": 261,
      "outputs": []
    },
    {
      "cell_type": "code",
      "source": [
        "# graph error and loss\n",
        "\n",
        "plot_graph_loss(history)\n",
        "model.evaluate(X_test, y_test, batch_size=128)"
      ],
      "metadata": {
        "colab": {
          "base_uri": "https://localhost:8080/",
          "height": 608
        },
        "id": "UpKJg-25powX",
        "outputId": "a0d9221f-5d76-466a-fec7-94477d06ac49"
      },
      "execution_count": 293,
      "outputs": [
        {
          "output_type": "display_data",
          "data": {
            "text/plain": [
              "<Figure size 432x288 with 1 Axes>"
            ],
            "image/png": "[encoded data removed]"
          },
          "metadata": {
            "needs_background": "light"
          }
        },
        {
          "output_type": "display_data",
          "data": {
            "text/plain": [
              "<Figure size 432x288 with 1 Axes>"
            ],
            "image/png": "[encoded data removed]"
          },
          "metadata": {
            "needs_background": "light"
          }
        },
        {
          "output_type": "stream",
          "name": "stdout",
          "text": [
            "1/1 [==============================] - 0s 22ms/step - loss: 0.8523 - mae: 0.6958 - mse: 0.8523\n"
          ]
        },
        {
          "output_type": "execute_result",
          "data": {
            "text/plain": [
              "[0.8523407578468323, 0.6957593560218811, 0.8523407578468323]"
            ]
          },
          "metadata": {},
          "execution_count": 293
        }
      ]
    },
    {
      "cell_type": "markdown",
      "source": [
        "As we can see with this approach we are getting mean absolute error on the test set of 0.7095"
      ],
      "metadata": {
        "id": "mFH1Sipf_3ha"
      }
    },
    {
      "cell_type": "code",
      "source": [
        "# sample prediction\n",
        "print(X_test[:5])\n",
        "model.predict(X_test[:5])"
      ],
      "metadata": {
        "colab": {
          "base_uri": "https://localhost:8080/"
        },
        "id": "GH26NQUdqlYB",
        "outputId": "06071538-f383-45d6-dd98-2040ce7df99a"
      },
      "execution_count": 184,
      "outputs": [
        {
          "output_type": "stream",
          "name": "stdout",
          "text": [
            "     VVKN  SP  DM  ONVD  OOP   K  AOK  AIPS\n",
            "71      7   5   6     5    5   5    7     5\n",
            "165     7   6   7     8    5   6    6     6\n",
            "15     10  10  10     9   10   9    8     9\n",
            "8      10  10  10    10   10  10   10    10\n",
            "172     7   7   5     6    7   6    5     7\n"
          ]
        },
        {
          "output_type": "execute_result",
          "data": {
            "text/plain": [
              "array([[4.4682674],\n",
              "       [5.480187 ],\n",
              "       [8.5016575],\n",
              "       [9.244143 ],\n",
              "       [5.156545 ]], dtype=float32)"
            ]
          },
          "metadata": {},
          "execution_count": 184
        }
      ]
    },
    {
      "cell_type": "code",
      "source": [
        "# save to google drive\n",
        "from google.colab import drive\n",
        "import joblib\n",
        "drive.mount('/content/gdrive')"
      ],
      "metadata": {
        "colab": {
          "base_uri": "https://localhost:8080/"
        },
        "id": "1qJkVe6HzplI",
        "outputId": "6b4bd7f8-2122-43f7-e002-9267b84708e2"
      },
      "execution_count": 192,
      "outputs": [
        {
          "output_type": "stream",
          "name": "stdout",
          "text": [
            "Drive already mounted at /content/gdrive; to attempt to forcibly remount, call drive.mount(\"/content/gdrive\", force_remount=True).\n"
          ]
        }
      ]
    },
    {
      "cell_type": "code",
      "source": [
        "model.save('/content/gdrive/My Drive/VIS_Predictors/deep_learning')"
      ],
      "metadata": {
        "colab": {
          "base_uri": "https://localhost:8080/"
        },
        "id": "7ZfNw8tMzI4v",
        "outputId": "aeaaeef3-465e-41df-901f-07de7191cca7"
      },
      "execution_count": 132,
      "outputs": [
        {
          "output_type": "stream",
          "name": "stdout",
          "text": [
            "INFO:tensorflow:Assets written to: /content/gdrive/My Drive/VIS_Predictors/deep_learning\" /assets\n"
          ]
        }
      ]
    },
    {
      "cell_type": "markdown",
      "source": [
        "## Random forest regressor"
      ],
      "metadata": {
        "id": "UxTic9rt7bHZ"
      }
    },
    {
      "cell_type": "code",
      "source": [
        "from sklearn.ensemble import RandomForestRegressor"
      ],
      "metadata": {
        "id": "kBF2ghvA8LN8"
      },
      "execution_count": 185,
      "outputs": []
    },
    {
      "cell_type": "code",
      "source": [
        "# init model with 100 trees\n",
        "forest_model = RandomForestRegressor(n_estimators=100)\n",
        "forest_model.fit(X_train,y_train)"
      ],
      "metadata": {
        "colab": {
          "base_uri": "https://localhost:8080/"
        },
        "id": "4EUYWjOO8P1i",
        "outputId": "21d4252d-b0e9-4bf6-aa70-b0d989f45f17"
      },
      "execution_count": 186,
      "outputs": [
        {
          "output_type": "execute_result",
          "data": {
            "text/plain": [
              "RandomForestRegressor()"
            ]
          },
          "metadata": {},
          "execution_count": 186
        }
      ]
    },
    {
      "cell_type": "code",
      "source": [
        "# function to calculate MAE on test set\n",
        "\n",
        "def mae(real,pred):\n",
        "  score = 0\n",
        "  for x,y in zip(real,pred):\n",
        "    score += abs(x-y)\n",
        "  return score/len(real)"
      ],
      "metadata": {
        "id": "sio9P0GM9QEP"
      },
      "execution_count": 159,
      "outputs": []
    },
    {
      "cell_type": "code",
      "source": [
        "mae(y_test,forest_model.predict(X_test))"
      ],
      "metadata": {
        "colab": {
          "base_uri": "https://localhost:8080/"
        },
        "id": "tOHkwWs5_hnV",
        "outputId": "d617560d-13d5-4ec3-e198-d0699f469943"
      },
      "execution_count": 189,
      "outputs": [
        {
          "output_type": "execute_result",
          "data": {
            "text/plain": [
              "0.5886666666666666"
            ]
          },
          "metadata": {},
          "execution_count": 189
        }
      ]
    },
    {
      "cell_type": "code",
      "source": [
        "# sample prediction\n",
        "print(X_test[:5])\n",
        "forest_model.predict(X_test[:5])"
      ],
      "metadata": {
        "colab": {
          "base_uri": "https://localhost:8080/"
        },
        "id": "-J_dKOLLBKCe",
        "outputId": "71948711-7d43-4995-924a-58ed577977a7"
      },
      "execution_count": 190,
      "outputs": [
        {
          "output_type": "stream",
          "name": "stdout",
          "text": [
            "     VVKN  SP  DM  ONVD  OOP   K  AOK  AIPS\n",
            "71      7   5   6     5    5   5    7     5\n",
            "165     7   6   7     8    5   6    6     6\n",
            "15     10  10  10     9   10   9    8     9\n",
            "8      10  10  10    10   10  10   10    10\n",
            "172     7   7   5     6    7   6    5     7\n"
          ]
        },
        {
          "output_type": "execute_result",
          "data": {
            "text/plain": [
              "array([ 5.  ,  5.61,  9.19, 10.  ,  5.  ])"
            ]
          },
          "metadata": {},
          "execution_count": 190
        }
      ]
    },
    {
      "cell_type": "code",
      "source": [
        "joblib.dump(forest_model,'/content/gdrive/My Drive/VIS_Predictors/random_forest')"
      ],
      "metadata": {
        "colab": {
          "base_uri": "https://localhost:8080/"
        },
        "id": "zV2F_3BrCP7i",
        "outputId": "a5629c61-ef87-4b0f-d73c-85b1bef83377"
      },
      "execution_count": 193,
      "outputs": [
        {
          "output_type": "execute_result",
          "data": {
            "text/plain": [
              "['/content/gdrive/My Drive/VIS_Predictors/random_forest']"
            ]
          },
          "metadata": {},
          "execution_count": 193
        }
      ]
    },
    {
      "cell_type": "markdown",
      "source": [
        "## Support vector regressor"
      ],
      "metadata": {
        "id": "q2jiowiGDgF2"
      }
    },
    {
      "cell_type": "code",
      "source": [
        "from sklearn.svm import SVR"
      ],
      "metadata": {
        "id": "Cad963QcDjcB"
      },
      "execution_count": 195,
      "outputs": []
    },
    {
      "cell_type": "code",
      "source": [
        "svr = SVR(C=1.0, epsilon=0.2)\n",
        "svr.fit(X_train, y_train)"
      ],
      "metadata": {
        "colab": {
          "base_uri": "https://localhost:8080/"
        },
        "id": "EtfXNqAHD8uh",
        "outputId": "e11b2895-825b-4cab-883f-679e4ac4f30d"
      },
      "execution_count": 196,
      "outputs": [
        {
          "output_type": "execute_result",
          "data": {
            "text/plain": [
              "SVR(epsilon=0.2)"
            ]
          },
          "metadata": {},
          "execution_count": 196
        }
      ]
    },
    {
      "cell_type": "code",
      "source": [
        "mae(y_test,svr.predict(X_test))"
      ],
      "metadata": {
        "colab": {
          "base_uri": "https://localhost:8080/"
        },
        "id": "zMRpGQNeEC3c",
        "outputId": "0280201c-edbe-4a17-a116-f63699f03267"
      },
      "execution_count": 198,
      "outputs": [
        {
          "output_type": "execute_result",
          "data": {
            "text/plain": [
              "0.5757642727678641"
            ]
          },
          "metadata": {},
          "execution_count": 198
        }
      ]
    },
    {
      "cell_type": "code",
      "source": [
        "# sample prediction\n",
        "print(X_test[:5])\n",
        "svr.predict(X_test[:5])"
      ],
      "metadata": {
        "colab": {
          "base_uri": "https://localhost:8080/"
        },
        "id": "xVPwZ6a9EMnD",
        "outputId": "25be5976-30f3-4ee6-8260-04be4145ee2e"
      },
      "execution_count": 200,
      "outputs": [
        {
          "output_type": "stream",
          "name": "stdout",
          "text": [
            "     VVKN  SP  DM  ONVD  OOP   K  AOK  AIPS\n",
            "71      7   5   6     5    5   5    7     5\n",
            "165     7   6   7     8    5   6    6     6\n",
            "15     10  10  10     9   10   9    8     9\n",
            "8      10  10  10    10   10  10   10    10\n",
            "172     7   7   5     6    7   6    5     7\n"
          ]
        },
        {
          "output_type": "execute_result",
          "data": {
            "text/plain": [
              "array([5.27616709, 5.31191428, 9.07128028, 9.80002598, 4.87743215])"
            ]
          },
          "metadata": {},
          "execution_count": 200
        }
      ]
    },
    {
      "cell_type": "code",
      "source": [
        "joblib.dump(svr,'/content/gdrive/My Drive/VIS_Predictors/svr')"
      ],
      "metadata": {
        "colab": {
          "base_uri": "https://localhost:8080/"
        },
        "id": "d_WBhZEJEyve",
        "outputId": "645da95b-72a0-4c90-f671-1dc1ea61eb2e"
      },
      "execution_count": 201,
      "outputs": [
        {
          "output_type": "execute_result",
          "data": {
            "text/plain": [
              "['/content/gdrive/My Drive/VIS_Predictors/svr']"
            ]
          },
          "metadata": {},
          "execution_count": 201
        }
      ]
    },
    {
      "cell_type": "markdown",
      "source": [
        "# Comparing the models\n",
        "Considering this is a small limited dataset it makes sense that nearly all models output simlar mean absolute error on the test set. Support vector regression has the best MAE of 0.57. Deep learning with some tuning of the hyperparameters can probably go even lower than 0.69."
      ],
      "metadata": {
        "id": "aOU88obeFYgw"
      }
    }
  ]
}